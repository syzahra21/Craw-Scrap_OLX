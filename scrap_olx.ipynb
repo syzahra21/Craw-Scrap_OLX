{
 "cells": [
  {
   "cell_type": "code",
   "execution_count": 1,
   "metadata": {},
   "outputs": [],
   "source": [
    "import requests\n",
    "from bs4 import BeautifulSoup"
   ]
  },
  {
   "cell_type": "code",
   "execution_count": 1,
   "metadata": {},
   "outputs": [],
   "source": [
    "import time\n",
    "from selenium import webdriver\n",
    "from bs4 import BeautifulSoup\n",
    "import pandas\n",
    "from selenium.webdriver.common.by import By\n",
    "from selenium.common.exceptions import NoSuchElementException"
   ]
  },
  {
   "cell_type": "code",
   "execution_count": 2,
   "metadata": {},
   "outputs": [
    {
     "name": "stdout",
     "output_type": "stream",
     "text": [
      "            Product Name           Price       Tahun & Jarak Tempuh\n",
      "0     Mitsubishi Xpander  Rp 207.000.000     2019 - 5.000-10.000 km\n",
      "1             Honda Brio  Rp 159.500.000    2019 - 65.000-70.000 km\n",
      "2         Nissan X-Trail  Rp 141.000.000  2014 - 100.000-105.000 km\n",
      "3         Daihatsu Xenia  Rp 118.000.000  2017 - 110.000-115.000 km\n",
      "4    Toyota Land Cruiser  Rp 550.000.000    2012 - 85.000-90.000 km\n",
      "..                   ...             ...                        ...\n",
      "234      Wuling Almaz RS  Rp 247.000.000    2021 - 75.000-80.000 km\n",
      "235           Suzuki XL7  Rp 220.000.000    2022 - 60.000-65.000 km\n",
      "236           Suzuki XL7  Rp 220.000.000    2022 - 60.000-65.000 km\n",
      "237    Hyundai Stargazer  Rp 248.000.000    2022 - 15.000-20.000 km\n",
      "238             BMW 320i  Rp 288.000.000    2013 - 60.000-65.000 km\n",
      "\n",
      "[239 rows x 3 columns]\n",
      "Data saved in local disk\n"
     ]
    }
   ],
   "source": [
    "options = webdriver.ChromeOptions()\n",
    "options.add_argument(\"start-maximized\")\n",
    "url = 'https://www.olx.co.id/mobil-bekas_c198'\n",
    "driver = webdriver.Chrome()\n",
    "driver.maximize_window()\n",
    "driver.get(url)\n",
    "\n",
    "for i in range(5):\n",
    "    time.sleep(5)\n",
    "    try:\n",
    "        driver.find_element(By.CSS_SELECTOR, 'div._38O09 > button').click()\n",
    "        time.sleep(5)\n",
    "    except NoSuchElementException:\n",
    "        break\n",
    "    time.sleep(5)\n",
    "\n",
    "list_mobil = []\n",
    "soup  = BeautifulSoup(driver.page_source, \"html.parser\")\n",
    "for item in soup.findAll('li', class_='_3V_Ww'):\n",
    "    product_name = item.find('div', class_='_2Gr10').text\n",
    "    price = item.find('span', class_='_1zgtX').text\n",
    "    km = item.find('div', class_='_21gnE').text\n",
    "    list_mobil.append(\n",
    "        (product_name, price, km)\n",
    "    )\n",
    "\n",
    "df = pandas.DataFrame(list_mobil, columns=['Product Name', 'Price', 'Tahun & Jarak Tempuh'])\n",
    "print(df)\n",
    "\n",
    "df.to_excel('OLX_Mobil_Bekas.xlsx', index=False)\n",
    "print('Data saved in local disk')\n",
    "driver.close()"
   ]
  }
 ],
 "metadata": {
  "kernelspec": {
   "display_name": "bigdata",
   "language": "python",
   "name": "python3"
  },
  "language_info": {
   "codemirror_mode": {
    "name": "ipython",
    "version": 3
   },
   "file_extension": ".py",
   "mimetype": "text/x-python",
   "name": "python",
   "nbconvert_exporter": "python",
   "pygments_lexer": "ipython3",
   "version": "3.11.3"
  }
 },
 "nbformat": 4,
 "nbformat_minor": 2
}
